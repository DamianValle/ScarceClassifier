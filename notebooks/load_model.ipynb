{
 "cells": [
  {
   "cell_type": "code",
   "execution_count": null,
   "id": "9e968211",
   "metadata": {},
   "outputs": [],
   "source": [
    "cd ../src"
   ]
  },
  {
   "cell_type": "code",
   "execution_count": null,
   "id": "9690afdc",
   "metadata": {},
   "outputs": [],
   "source": [
    "from d07_visualization.viz_training import plot_acc, plot_training_loss, plot_losses\n",
    "from d04_mixmatch.wideresnet import WideResNet\n",
    "from d02_data.load_data import get_dataloaders_ssl\n",
    "from d02_data.load_data_idxs import get_dataloaders_with_index\n",
    "import torch\n",
    "import torch.nn as nn\n",
    "import numpy as np\n",
    "import matplotlib.pyplot as plt"
   ]
  },
  {
   "cell_type": "code",
   "execution_count": null,
   "id": "49208532",
   "metadata": {},
   "outputs": [],
   "source": [
    "model_name = 'sgd_250/checkpoint_30000_unlearns.pt'\n",
    "saved_model = torch.load(f'../models/{model_name}', map_location=torch.device('cpu')) \n",
    "\n",
    "model = WideResNet(depth=28, k=2, n_out=10, bias=False)\n",
    "model.load_state_dict(saved_model['model_state_dict'])\n",
    "\n",
    "# optim = ...\n",
    "# optim.load_state_dict(saved_model['optimizer_state_dict'])\n",
    "\n",
    "loss_train = saved_model['loss_train']\n",
    "loss_val = saved_model['loss_val']\n",
    "acc_train = saved_model['acc_train']\n",
    "acc_val = saved_model['acc_val']\n",
    "\n",
    "loss_batch = saved_model['loss_batch']\n",
    "lx = saved_model['lx']\n",
    "lu = saved_model['lu']\n",
    "lu_weighted = saved_model['lu_weighted']\n",
    "\n",
    "saved_model.keys()"
   ]
  },
  {
   "cell_type": "code",
   "execution_count": null,
   "id": "272b010a",
   "metadata": {},
   "outputs": [],
   "source": [
    "plot_training_loss(loss_train, loss_val, step=1000)\n",
    "plt.show()\n",
    "plot_training_loss(loss_train[2:], loss_val[2:], step=1000)\n"
   ]
  },
  {
   "cell_type": "code",
   "execution_count": null,
   "id": "99e60f71",
   "metadata": {},
   "outputs": [],
   "source": [
    "plt.figure(figsize=(8,6))\n",
    "print('Max val acc: ' + str(max(acc_val)))\n",
    "plot_acc(acc_train, acc_val, step=1000)"
   ]
  },
  {
   "cell_type": "code",
   "execution_count": null,
   "id": "d233e94a",
   "metadata": {},
   "outputs": [],
   "source": [
    "plt.figure(figsize=(8,6))\n",
    "plot_losses(loss_batch[50:], lx[50:], lu[50:], lu_weighted[50:])\n",
    "plt.show()\n",
    "idx1 = 9000\n",
    "idx2 = 11000\n",
    "plt.figure(figsize=(10,8))\n",
    "plot_losses(loss_batch[idx1:idx2], lx[idx1:idx2], lu[idx1:idx2], lu_weighted[idx1:idx2])"
   ]
  },
  {
   "cell_type": "code",
   "execution_count": null,
   "id": "68335931",
   "metadata": {},
   "outputs": [],
   "source": [
    "plt.figure(figsize=(8,6))\n",
    "\n",
    "kernel_size = 10\n",
    "kernel = np.ones(kernel_size) / kernel_size\n",
    "loss_batch_f = np.convolve(loss_batch, kernel)\n",
    "lx_f = np.convolve(lx, kernel)\n",
    "lu_f = np.convolve(lu, kernel)\n",
    "lu_weighted_f = np.convolve(lu_weighted, kernel)\n",
    "\n",
    "plot_losses(loss_batch_f, lx_f, lu_f, lu_weighted_f)\n",
    "fig, ax1 = plt.subplots()\n",
    "\n",
    "ax2 = ax1.twinx()\n",
    "ax2.plot(acc_val, 'b-')\n",
    "\n",
    "plt.show()"
   ]
  },
  {
   "cell_type": "code",
   "execution_count": null,
   "id": "4c6ddaef",
   "metadata": {},
   "outputs": [],
   "source": [
    "id = np.argmax(lx[9500:10000])\n",
    "print(id)\n",
    "print(np.round(lx[9780:9790],2))\n"
   ]
  },
  {
   "cell_type": "code",
   "execution_count": null,
   "id": "bd8040bc",
   "metadata": {},
   "outputs": [],
   "source": [
    "def evaluate(dataloader, adam=True):\n",
    "    criterion = nn.CrossEntropyLoss()\n",
    "    ema_model.eval()\n",
    "    correct, total, loss = 0, 0, 0\n",
    "    with torch.no_grad():\n",
    "        for i, data in enumerate(dataloader, 0):\n",
    "            inputs, labels = data[0], data[1]\n",
    "            if adam:\n",
    "                outputs = ema_model(inputs)\n",
    "            else:\n",
    "                outputs = model(inputs)\n",
    "            \n",
    "            _, predicted = torch.max(outputs.data, 1)\n",
    "            total += labels.size(0)\n",
    "            correct += (predicted == labels).sum().item()\n",
    "\n",
    "    acc = correct / total * 100\n",
    "    return loss, acc\n",
    "\n",
    "_, _, val_loader, test_loader, _, _, _ = get_dataloaders_ssl(path='../data', batch_size=64, num_labeled=250)"
   ]
  },
  {
   "cell_type": "code",
   "execution_count": null,
   "id": "90434622",
   "metadata": {},
   "outputs": [],
   "source": [
    "ema_model = WideResNet(depth=28, k=2, n_out=10, bias=False)\n",
    "ema_model.load_state_dict(saved_model['ema_state_dict'])\n",
    "\n",
    "test_loss, test_acc = evaluate(test_loader, adam=True)\n",
    "print(\"Test accuracy: %.2f\" % (test_acc))"
   ]
  },
  {
   "cell_type": "code",
   "execution_count": null,
   "id": "0d88a395",
   "metadata": {},
   "outputs": [],
   "source": [
    "val_loss, val_acc = evaluate(val_loader)\n",
    "print(\"Val accuracy: %.2f\" % (val_acc))"
   ]
  },
  {
   "cell_type": "code",
   "execution_count": null,
   "id": "cce90d2d",
   "metadata": {},
   "outputs": [],
   "source": [
    "a = np.array([])\n",
    "print(a.shape)\n"
   ]
  },
  {
   "cell_type": "code",
   "execution_count": null,
   "id": "a61ee1e5",
   "metadata": {},
   "outputs": [],
   "source": [
    "loss_list = []\n",
    "for i in range(10):\n",
    "    loss_list.append(round(np.mean(lu[i*1000:(i+1)*1000]),3))\n",
    "print(loss_list)"
   ]
  },
  {
   "cell_type": "markdown",
   "id": "d625ba33",
   "metadata": {},
   "source": [
    "## Pseudo Labelling"
   ]
  },
  {
   "cell_type": "code",
   "execution_count": null,
   "id": "457bd698",
   "metadata": {},
   "outputs": [],
   "source": [
    "cd ../src"
   ]
  },
  {
   "cell_type": "code",
   "execution_count": null,
   "id": "df5ad881",
   "metadata": {},
   "outputs": [],
   "source": [
    "from d02_data.load_data_idxs import get_dataloaders_with_index\n",
    "lbl_loader, unlbl_loader, _, _, _, unlbl_indxs, _ = get_dataloaders_with_index(path='../data', batch_size=64, num_labeled=250)"
   ]
  },
  {
   "cell_type": "code",
   "execution_count": null,
   "id": "0d4b1aba",
   "metadata": {},
   "outputs": [],
   "source": []
  },
  {
   "cell_type": "code",
   "execution_count": null,
   "id": "d3c61450",
   "metadata": {},
   "outputs": [],
   "source": [
    "id<"
   ]
  },
  {
   "cell_type": "code",
   "execution_count": null,
   "id": "dbf4ea81",
   "metadata": {},
   "outputs": [],
   "source": [
    "unlbl_batch = iter(unlbl_loader).next()\n",
    "len(unlbl_batch)\n",
    "print(unlbl_batch[2])"
   ]
  },
  {
   "cell_type": "code",
   "execution_count": null,
   "id": "d9cb4f78",
   "metadata": {},
   "outputs": [],
   "source": [
    "unlbl_loader.dataset.targets[36695]"
   ]
  },
  {
   "cell_type": "code",
   "execution_count": null,
   "id": "7d904fd3",
   "metadata": {},
   "outputs": [],
   "source": [
    "import numpy as np\n",
    "a = np.array([-2, 1, 5, 3, 8, 5, 6])\n",
    "b = np.array([1, 2, 5])\n",
    "print(list(a[b]))\n",
    "# Result:\n",
    "[1, 5, 5]"
   ]
  },
  {
   "cell_type": "code",
   "execution_count": null,
   "id": "47593599",
   "metadata": {},
   "outputs": [],
   "source": [
    "lbl_loader.dataset.targets[[0,3]]"
   ]
  },
  {
   "cell_type": "code",
   "execution_count": null,
   "id": "9434cf33",
   "metadata": {},
   "outputs": [],
   "source": [
    "unlbl_batch = iter(unlbl_loader).next()[0]\n",
    "\n",
    "p_out_max = torch.tensor([])\n",
    "lbls = torch.tensor([])\n",
    "for _ in range(1):\n",
    "    unlbl_batch = iter(unlbl_loader).next()[0]\n",
    "\n",
    "    p_out = torch.softmax(model(unlbl_batch), dim=1)\n",
    "    p_out = p_out.detach()\n",
    "    p_out_max2, lbls2 = torch.max(p_out, dim=1)\n",
    "    p_out_max = torch.cat((p_out_max, p_out_max2))\n",
    "    lbls = torch.cat((lbls, lbls2))"
   ]
  },
  {
   "cell_type": "code",
   "execution_count": null,
   "id": "f3daf2ac",
   "metadata": {},
   "outputs": [],
   "source": [
    "\n",
    "bb = torch.vstack((p_out_max, lbls, lbls)).T\n",
    "b = torch.cat((b, bb), dim=0)\n",
    "b.shape"
   ]
  },
  {
   "cell_type": "code",
   "execution_count": null,
   "id": "eeefab45",
   "metadata": {},
   "outputs": [],
   "source": [
    "b2 = torch.vstack((b.T, torch.zeros(192))).T\n",
    "b2.shape"
   ]
  },
  {
   "cell_type": "code",
   "execution_count": null,
   "id": "3f4de8a6",
   "metadata": {},
   "outputs": [],
   "source": [
    "a = b[:,b[0] > 0.7]\n",
    "a\n",
    "l = a[0].tolist().extend(a[1].tolist())\n",
    "l"
   ]
  },
  {
   "cell_type": "code",
   "execution_count": null,
   "id": "855fac63",
   "metadata": {},
   "outputs": [],
   "source": [
    "plt.hist(p_out_max, bins=20);\n",
    "print('Percentage superior to threshlold: ', str(np.sum(p_out_max>0.95) / p_out_max.shape[0]))"
   ]
  }
 ],
 "metadata": {
  "kernelspec": {
   "display_name": "Python 3",
   "language": "python",
   "name": "python3"
  },
  "language_info": {
   "codemirror_mode": {
    "name": "ipython",
    "version": 3
   },
   "file_extension": ".py",
   "mimetype": "text/x-python",
   "name": "python",
   "nbconvert_exporter": "python",
   "pygments_lexer": "ipython3",
   "version": "3.7.10"
  }
 },
 "nbformat": 4,
 "nbformat_minor": 5
}
