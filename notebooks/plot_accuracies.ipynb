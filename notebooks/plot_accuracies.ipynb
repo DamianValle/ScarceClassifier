{
 "cells": [
  {
   "cell_type": "code",
   "execution_count": null,
   "id": "68e57c8c",
   "metadata": {},
   "outputs": [],
   "source": [
    "cd ../src"
   ]
  },
  {
   "cell_type": "code",
   "execution_count": null,
   "id": "285431a3",
   "metadata": {},
   "outputs": [],
   "source": [
    "from d07_visualization.viz_training import plot_acc, plot_training_loss, plot_losses\n",
    "from d04_mixmatch.wideresnet import WideResNet\n",
    "from d02_data.load_data import get_dataloaders_ssl\n",
    "from d02_data.load_data_idxs import get_dataloaders_with_index\n",
    "import torch\n",
    "import torch.nn as nn\n",
    "import numpy as np\n",
    "import matplotlib.pyplot as plt"
   ]
  },
  {
   "cell_type": "markdown",
   "id": "e409252e",
   "metadata": {},
   "source": [
    "## 4,000 labels"
   ]
  },
  {
   "cell_type": "code",
   "execution_count": null,
   "id": "d50f77f1",
   "metadata": {},
   "outputs": [],
   "source": [
    "# Model 1\n",
    "model_name = 'adam_4k/adam_4k_normal_second_run/checkpoint_200000.pt'\n",
    "saved_model_1 = torch.load(f'../models/{model_name}', map_location=torch.device('cpu')) \n",
    "# Model 2\n",
    "model_name = 'adam_4k/adam_4k_pseudo_0.95/checkpoint_200000.pt'\n",
    "saved_model_2 = torch.load(f'../models/{model_name}', map_location=torch.device('cpu')) \n",
    "# Model 3\n",
    "model_name = 'adam_4k/adam_4k_pseudo_0.99/checkpoint_200000.pt'\n",
    "saved_model_3 = torch.load(f'../models/{model_name}', map_location=torch.device('cpu')) \n",
    "# Model 4\n",
    "model_name = 'adam_4k/adam_4k_pseudo_balanced/checkpoint_200000.pt'\n",
    "saved_model_4 = torch.load(f'../models/{model_name}', map_location=torch.device('cpu')) "
   ]
  },
  {
   "cell_type": "code",
   "execution_count": null,
   "id": "05e73ff7",
   "metadata": {},
   "outputs": [],
   "source": [
    "# loss_train = saved_model['loss_train']\n",
    "# loss_val = saved_model['loss_val']\n",
    "# acc_train = saved_model['acc_train']\n",
    "acc_val_1 = saved_model_1['acc_val'][:-3]\n",
    "acc_val_2 = saved_model_2['acc_val']\n",
    "acc_val_3 = saved_model_3['acc_val']\n",
    "acc_val_4 = saved_model_4['acc_val']\n",
    "\n",
    "print(max(acc_val_1))\n",
    "print(max(acc_val_2))\n",
    "print(max(acc_val_3))\n",
    "print(max(acc_val_4))\n",
    "\n",
    "kernel_size = 10\n",
    "kernel = np.ones(kernel_size) / kernel_size\n",
    "acc_val_1 = np.convolve(acc_val_1, kernel)[-200:-10]\n",
    "acc_val_2 = np.convolve(acc_val_2, kernel)[-200:-10]\n",
    "acc_val_3 = np.convolve(acc_val_3, kernel)[-200:-10]\n",
    "acc_val_4 = np.convolve(acc_val_4, kernel)[-200:-10]\n",
    "\n",
    "step = 1000\n",
    "x = np.linspace(10*step, (10+len(acc_val_1))*step, len(acc_val_1))\n",
    "plt.figure(figsize=(8,6))\n",
    "plt.plot(x, acc_val_1, label='no pseudo labels')\n",
    "plt.plot(x, acc_val_2, label='tau=0.95')\n",
    "plt.plot(x, acc_val_3, label='tau=0.99')\n",
    "plt.plot(x, acc_val_4, label='balanced')\n",
    "plt.title('Pseudo-label impact. Adam, 4k labels.')\n",
    "plt.xlabel('Steps')\n",
    "plt.ylim(86,94)\n",
    "plt.ylabel('Test accuracy (%)')\n",
    "plt.legend()\n",
    "plt.savefig('../results/figs/fig.png', format='png')\n",
    "plt.show()\n",
    "\n"
   ]
  },
  {
   "cell_type": "markdown",
   "id": "70ce7db3",
   "metadata": {},
   "source": [
    "## 250 labels"
   ]
  },
  {
   "cell_type": "code",
   "execution_count": null,
   "id": "747881b6",
   "metadata": {},
   "outputs": [],
   "source": [
    "# Model 1\n",
    "model_name = 'adam_250/adam_250_no_pseudo/last_one_500k.pt'\n",
    "saved_model_1 = torch.load(f'../models/{model_name}', map_location=torch.device('cpu')) \n",
    "# Model 2\n",
    "model_name = 'adam_250/adam_250_pseudo_0.95/checkpoint_150000.pt'\n",
    "saved_model_2 = torch.load(f'../models/{model_name}', map_location=torch.device('cpu')) \n",
    "# Model 3\n",
    "model_name = 'adam_250/adam_250_pseudo_0.99/checkpoint_125000.pt'\n",
    "saved_model_3 = torch.load(f'../models/{model_name}', map_location=torch.device('cpu')) \n",
    "# Model 4\n",
    "model_name = 'adam_250/adam_250_pseudo_balanced/checkpoint_200000.pt'\n",
    "saved_model_4 = torch.load(f'../models/{model_name}', map_location=torch.device('cpu')) "
   ]
  },
  {
   "cell_type": "code",
   "execution_count": null,
   "id": "520f6cfe",
   "metadata": {},
   "outputs": [],
   "source": [
    "acc_val_1 = saved_model_1['acc_val'][:200]\n",
    "\n",
    "acc_val_2 = saved_model_2['acc_val']\n",
    "extra = 200 - len(acc_val_2)\n",
    "acc_val_2.extend(np.ones(extra)*10)\n",
    "\n",
    "acc_val_3 = saved_model_3['acc_val']\n",
    "extra = 200 - len(acc_val_3)\n",
    "acc_val_3.extend(np.ones(extra)*10)\n",
    "\n",
    "acc_val_4 = saved_model_4['acc_val']\n",
    "\n",
    "print(max(acc_val_1))\n",
    "print(max(acc_val_2))\n",
    "print(max(acc_val_3))\n",
    "print(max(acc_val_4))"
   ]
  },
  {
   "cell_type": "code",
   "execution_count": null,
   "id": "a61fd3ea",
   "metadata": {},
   "outputs": [],
   "source": [
    "kernel_size = 10\n",
    "kernel = np.ones(kernel_size) / kernel_size\n",
    "acc_val_1 = np.convolve(acc_val_1, kernel)[-200:-10]\n",
    "acc_val_2 = np.convolve(acc_val_2, kernel)[-200:-10]\n",
    "acc_val_3 = np.convolve(acc_val_3, kernel)[-200:-10]\n",
    "acc_val_4 = np.convolve(acc_val_4, kernel)[-200:-10]\n",
    "\n",
    "step = 1000\n",
    "x = np.linspace(10*step, (10+len(acc_val_1))*step, len(acc_val_1))\n",
    "plt.figure(figsize=(8,6))\n",
    "plt.plot(x, acc_val_1, label='no pseudo labels')\n",
    "plt.plot(x, acc_val_2, label='tau=0.95')\n",
    "plt.plot(x, acc_val_3, label='tau=0.99')\n",
    "plt.plot(x, acc_val_4, label='balanced')\n",
    "plt.title('Pseudo-label impact. Adam, 250 labels.')\n",
    "plt.xlabel('Steps')\n",
    "plt.ylabel('Test accuracy (%)')\n",
    "plt.legend()\n",
    "plt.savefig('../results/figs/fig.png', format='png')\n",
    "plt.show()\n",
    "\n",
    "print(max(acc_val_1))\n",
    "print(max(acc_val_2))\n",
    "print(max(acc_val_3))\n",
    "print(max(acc_val_4))"
   ]
  },
  {
   "cell_type": "code",
   "execution_count": null,
   "id": "e15fe5d5",
   "metadata": {},
   "outputs": [],
   "source": []
  }
 ],
 "metadata": {
  "kernelspec": {
   "display_name": "Python 3",
   "language": "python",
   "name": "python3"
  },
  "language_info": {
   "codemirror_mode": {
    "name": "ipython",
    "version": 3
   },
   "file_extension": ".py",
   "mimetype": "text/x-python",
   "name": "python",
   "nbconvert_exporter": "python",
   "pygments_lexer": "ipython3",
   "version": "3.7.10"
  }
 },
 "nbformat": 4,
 "nbformat_minor": 5
}
