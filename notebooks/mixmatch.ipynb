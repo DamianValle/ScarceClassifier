{
 "cells": [
  {
   "cell_type": "code",
   "execution_count": null,
   "metadata": {},
   "outputs": [],
   "source": [
    "cd ..\n"
   ]
  },
  {
   "cell_type": "code",
   "execution_count": null,
   "metadata": {},
   "outputs": [],
   "source": [
    "from src.d04_mixmatch.wideresnet import WideResNet\n",
    "from src.d02_data.load_data import get_dataloaders_validation, get_dataloaders_ssl\n",
    "from src.d03_processing.transform_data import AddGaussianNoise, Augment\n",
    "from src.d07_visualization.visualize_cifar10 import show_img\n",
    "import torch\n",
    "import torch.nn as nn\n",
    "import torch.optim as optim\n",
    "import torchvision.transforms as transforms\n",
    "import numpy as np\n",
    "import time"
   ]
  },
  {
   "cell_type": "code",
   "execution_count": null,
   "metadata": {},
   "outputs": [],
   "source": [
    "device = torch.device(\"cuda:0\" if torch.cuda.is_available() else \"cpu\")\n",
    "\n",
    "# Assuming that we are on a CUDA machine, this should print a CUDA device:\n",
    "\n",
    "print(device)"
   ]
  },
  {
   "cell_type": "code",
   "execution_count": null,
   "metadata": {},
   "outputs": [],
   "source": [
    "# Get data\n",
    "train_loader, unlbl_loader, val_loader, test_loader, _, _, _ = get_dataloaders_ssl(path='data', batch_size=64, num_labeled=250, which_dataset='cifar10')\n",
    "iterator = iter(train_loader).next()\n",
    "show_img(iterator[0][0])\n",
    "print(iterator[1][0])\n",
    "\n"
   ]
  },
  {
   "cell_type": "code",
   "execution_count": null,
   "metadata": {},
   "outputs": [],
   "source": [
    "import torchvision.transforms as tf\n",
    "crop = tf.CenterCrop(20)\n",
    "\n",
    "img = iter(train_loader).next()[0][0]\n",
    "show_img(img)\n",
    "croped_img = crop(img)\n",
    "show_img(croped_img)\n",
    "\n",
    "border=4\n",
    "img_pad = np.pad(img, [(0, 0), (border, border), (border, border)], mode='reflect')\n",
    "show_img(torch.Tensor(img_pad))"
   ]
  },
  {
   "cell_type": "code",
   "execution_count": null,
   "metadata": {},
   "outputs": [],
   "source": [
    "class RandomCrop(torch.nn.Module):\n",
    "    \"\"\"\n",
    "    1- Pad an image with reflection a random number of pixels in each side\n",
    "    2- Crop the same number of pixels, in random side\n",
    "    Returns an image of the same input size\n",
    "    \"\"\"\n",
    "    def __init__(self, max_crop):\n",
    "        super().__init__()\n",
    "        self.max_crop = max_crop\n",
    "\n",
    "    def forward(self, img):\n",
    "        img = img.cpu().numpy()\n",
    "        h, w = img.shape[2:]\n",
    "        crop_size = np.random.randint(1, self.max_crop)\n",
    "        imgaux = np.pad(img, [(0, 0), (0, 0), (crop_size, crop_size), (crop_size, crop_size)], mode='reflect')\n",
    "        \n",
    "        for i in range(img.shape[0]):\n",
    "            top = np.random.randint(0, crop_size*2)\n",
    "            print(top)\n",
    "            left = np.random.randint(0, crop_size*2)\n",
    "\n",
    "            img[i] = imgaux[i,:, top: top + h, left: left + w]\n",
    "        return torch.from_numpy(img)"
   ]
  },
  {
   "cell_type": "code",
   "execution_count": null,
   "metadata": {},
   "outputs": [],
   "source": [
    "rc = RandomCrop(5)\n",
    "img = iter(train_loader).next()[0][0:2]\n",
    "show_img(img[0])\n",
    "show_img(img[1])\n",
    "\n",
    "cimg = rc(img)\n",
    "show_img(cimg[0])\n",
    "show_img(cimg[1])\n"
   ]
  },
  {
   "cell_type": "code",
   "execution_count": null,
   "metadata": {},
   "outputs": [],
   "source": [
    "# Init new model\n",
    "model = WideResNet(depth=28, k=2, n_out=10)\n"
   ]
  },
  {
   "cell_type": "code",
   "execution_count": null,
   "metadata": {},
   "outputs": [],
   "source": [
    "# Load saved model\n",
    "model_name = 'model_fs_adam.pt'\n",
    "saved_model = torch.load(f'models/saved_models/{model_name}', map_location=torch.device('cpu')) \n",
    "\n",
    "model = WideResNet(depth=28, k=2, n_out=10)\n",
    "model.load_state_dict(saved_model['model_state_dict'])"
   ]
  },
  {
   "cell_type": "code",
   "execution_count": null,
   "metadata": {},
   "outputs": [],
   "source": [
    "class MixMatch(object):\n",
    "\n",
    "    def __init__(self, model, batch_size, device='cpu', T=0.5, K=2, alpha=0.75):\n",
    "        self.T = T\n",
    "        self.K = K\n",
    "        self.batch_size = batch_size\n",
    "        self.alpha = alpha\n",
    "        self.softmax = nn.Softmax(dim=1)\n",
    "        self.model = model\n",
    "        self.device = device\n",
    "        self.n_labels = 10  # Warning! hardcoded\n",
    "        self.beta = torch.distributions.beta.Beta(alpha, alpha)\n",
    "\n",
    "    def run(self, x_imgs, x_labels, u_imgs):\n",
    "        # One hot encoding\n",
    "        x_labels = self.one_hot_encoding(x_labels)\n",
    "        x_labels.to(self.device)\n",
    "\n",
    "        # Augment\n",
    "        augment_once = Augment(K=1)\n",
    "        augment_k = Augment(K=self.K)\n",
    "\n",
    "        x_hat = augment_once(x_imgs)  # shape (1, batch_size, 3, 32, 32)\n",
    "        u_hat = augment_k(u_imgs)     # shape (K, batch_size, 3, 32, 32)\n",
    "\n",
    "        # Generate guessed labels\n",
    "        q_bar = self.guess_label(u_hat)\n",
    "        q = self.sharpen(q_bar)  # shape (K, batch_size, 10)\n",
    "\n",
    "        x_hat = x_hat.reshape((-1, 3, 32, 32))  # shape (batch_size, 3, 32, 32)\n",
    "        u_hat = u_hat.reshape((-1, 3, 32, 32))  # shape (K*batch_size, 3, 32, 32)\n",
    "        q = q.repeat(self.K, 1, 1).reshape(-1, 10)  # shape (K*batch_size, 10)\n",
    "\n",
    "        # Concat and shuffle\n",
    "        w_imgs = torch.cat((x_hat, u_hat))\n",
    "        w_labels = torch.cat((x_labels, q))\n",
    "        w_imgs, w_labels = self.shuffle_matrices(w_imgs, w_labels)\n",
    "\n",
    "        # Apply MixUp\n",
    "        x_prime, p_prime = self.mixup(x_hat, w_imgs[:self.batch_size], x_labels, w_labels[:self.batch_size])\n",
    "        u_prime, q_prime = self.mixup(u_hat, w_imgs[self.batch_size:], q, w_labels[self.batch_size:])\n",
    "\n",
    "        return (x_prime, p_prime), (u_prime, q_prime)\n",
    "\n",
    "    def mixup(self, x1, x2, p1, p2):\n",
    "        n_samples = x1.shape[0]\n",
    "        lambda_rand = self.beta.sample([n_samples, 1, 1, 1]).to(self.device)  # one lambda per sample\n",
    "        lambda_prime = torch.max(lambda_rand, 1 - lambda_rand).to(self.device)\n",
    "        x_prime = lambda_prime * x1 + (1 - lambda_prime) * x2\n",
    "        lambda_prime = lambda_prime.reshape(-1, 1)\n",
    "        p_prime = lambda_prime * p1 + (1 - lambda_prime) * p2\n",
    "        return x_prime, p_prime\n",
    "\n",
    "    def sharpen(self, q_bar):\n",
    "        #q_bar = q_bar.numpy()\n",
    "        q = torch.pow(q_bar, 1 / self.T) / torch.sum(torch.pow(q_bar, 1 / self.T), axis=1)[:, np.newaxis]\n",
    "        return q\n",
    "    \n",
    "    def sharpen2(self, q_bar):\n",
    "        qt = q_bar**(1/self.T)\n",
    "        q = qt / qt.sum(dim=1, keepdim=True)\n",
    "        return q\n",
    "\n",
    "    def guess_label(self, u_hat):\n",
    "        self.model.eval()\n",
    "        with torch.no_grad():\n",
    "            q_bar = torch.zeros([self.batch_size, self.n_labels], device=self.device)\n",
    "            for k in range(self.K):\n",
    "                q_bar += self.softmax(self.model(u_hat[k]))\n",
    "            q_bar /= self.K\n",
    "\n",
    "        self.model.train()\n",
    "        return q_bar\n",
    "\n",
    "    def one_hot_encoding(self, labels):\n",
    "        shape = (labels.shape[0], self.n_labels)\n",
    "        one_hot = torch.zeros(shape, dtype=torch.float32, device=self.device)\n",
    "        rows = torch.arange(labels.shape[0])\n",
    "        one_hot[rows, labels] = 1\n",
    "        return one_hot\n",
    "\n",
    "    # shuffles along the first axis (axis 0)\n",
    "    def shuffle_matrices(self, m1, m2):\n",
    "        n_samples = m1.shape[0]\n",
    "        rand_indexes = torch.randperm(n_samples)\n",
    "        m1 = m1[rand_indexes]\n",
    "        m2 = m2[rand_indexes]\n",
    "        return m1, m2"
   ]
  },
  {
   "cell_type": "code",
   "execution_count": null,
   "metadata": {},
   "outputs": [],
   "source": [
    "x_imgs, x_labels = iter(train_loader).next()\n",
    "u_imgs, _ = iter(train_loader).next()"
   ]
  },
  {
   "cell_type": "code",
   "execution_count": null,
   "metadata": {},
   "outputs": [],
   "source": [
    "mixmatch = MixMatch(model, 64)\n",
    "x, u = mixmatch.run(x_imgs, x_labels, u_imgs)\n",
    "loss_mixmatch = Loss(75, 16000)\n",
    "\n",
    "\n",
    "x_prime = x[0]\n",
    "p_prime = x[1]\n",
    "u_prime = u[0]\n",
    "q_prime = u[1]\n",
    "\n",
    "\n",
    "loss, lx, lu_w = loss_mixmatch(x_prime, p_prime, u_prime, q_prime, 16000)\n",
    "print('Loss: ' + str(loss))\n",
    "print('Lx: ' + str(lx))\n",
    "print('Lu_w: ' + str(lu_w))\n"
   ]
  },
  {
   "cell_type": "code",
   "execution_count": null,
   "metadata": {},
   "outputs": [],
   "source": [
    "[ -6.5369, -11.0531,  -1.4134,  -2.8703,  -0.3930,  -3.9002,  -6.8887,\n",
    "         -6.1457,  -9.5587, -11.3256]"
   ]
  },
  {
   "cell_type": "code",
   "execution_count": null,
   "metadata": {},
   "outputs": [],
   "source": [
    "show_img(x_in[0])\n",
    "x_out = torch.softmax(x_out, dim=1)\n",
    "print(x_out[0])\n",
    "print(x_lbl[0])\n",
    "\n",
    "ce_loss = - torch.log(torch.mean(torch.sum(x_lbl[0] * x_out[0])))\n",
    "print(ce_loss.item())"
   ]
  },
  {
   "cell_type": "code",
   "execution_count": null,
   "metadata": {},
   "outputs": [],
   "source": [
    "x_imgs, x_labels = iter(train_loader).next()\n"
   ]
  },
  {
   "cell_type": "code",
   "execution_count": null,
   "metadata": {},
   "outputs": [],
   "source": [
    "x_imgs, x_labels = iter(train_loader).next()\n",
    "u_imgs, _ = iter(train_loader).next()\n",
    "\n",
    "show_img(x_imgs[0])\n",
    "print(x_labels[0])\n",
    "show_img(x_imgs[1])\n",
    "print(x_labels[1])\n",
    "show_img(u_imgs[0])\n",
    "show_img(u_imgs[1])\n",
    "\n",
    "model = WideResNet(depth=28, k=2, n_out=10)\n",
    "mixmatch = MixMatch(model, 64, K=2)\n",
    "x, u = mixmatch.run(x_imgs, x_labels, u_imgs)\n",
    "\n",
    "\n",
    "x_prime = x[0]\n",
    "p_prime = x[1]\n",
    "u_prime = u[0]\n",
    "q_prime = u[1]\n",
    "\n",
    "show_img(x_prime[0])\n",
    "print(p_prime[0])\n",
    "\n",
    "\n"
   ]
  },
  {
   "cell_type": "code",
   "execution_count": null,
   "metadata": {},
   "outputs": [],
   "source": [
    "x_imgs, x_labels = iter(train_loader).next()\n"
   ]
  },
  {
   "cell_type": "code",
   "execution_count": null,
   "metadata": {},
   "outputs": [],
   "source": [
    "class Loss(object):\n",
    "\n",
    "    def __init__(self, lambda_u_max, step_top_up):\n",
    "        self.lambda_u_max = lambda_u_max\n",
    "        self.step_top_up = step_top_up\n",
    "\n",
    "    def __call__(self, x_output, x_target, u_output, u_target, step):\n",
    "        lambda_u = self.ramp_up_lambda(step)\n",
    "        mse_loss = nn.MSELoss()\n",
    "        u_output = torch.softmax(u_output, dim=1)\n",
    "        \n",
    "        lx = - torch.mean(torch.sum(x_target * torch.log_softmax(x_output, dim=1), dim=1))\n",
    "        lu = mse_loss(u_output, u_target)\n",
    "        lu2 = torch.mean((probs_u - targets_u)**2)\n",
    "        print(lu)\n",
    "        print(lu2)\n",
    "        \n",
    "        loss = lx + lu * lambda_u\n",
    "\n",
    "        return loss.item(), lx.item(), (lu * lambda_u).item()\n",
    "\n",
    "    def ramp_up_lambda(self, step):\n",
    "        if step > self.step_top_up:\n",
    "            return self.lambda_u_max\n",
    "        else:\n",
    "            return self.lambda_u_max * step / self.step_top_up\n"
   ]
  },
  {
   "cell_type": "code",
   "execution_count": null,
   "metadata": {},
   "outputs": [],
   "source": []
  }
 ],
 "metadata": {
  "kernelspec": {
   "display_name": "Python 3",
   "language": "python",
   "name": "python3"
  },
  "language_info": {
   "codemirror_mode": {
    "name": "ipython",
    "version": 3
   },
   "file_extension": ".py",
   "mimetype": "text/x-python",
   "name": "python",
   "nbconvert_exporter": "python",
   "pygments_lexer": "ipython3",
   "version": "3.7.10"
  }
 },
 "nbformat": 4,
 "nbformat_minor": 4
}
